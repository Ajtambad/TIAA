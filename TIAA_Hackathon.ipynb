{
  "cells": [
    {
      "cell_type": "code",
      "execution_count": null,
      "metadata": {
        "id": "06d48ee7-36c3-4107-aef6-faa1c294cfb1"
      },
      "outputs": [],
      "source": [
        "## Run this cell once without comments to install packages, then comment them out.\n",
        "!pip install openai\n",
        "!pip install langchain\n",
        "!pip install tiktoken\n",
        "!pip install faiss-cpu"
      ],
      "id": "06d48ee7-36c3-4107-aef6-faa1c294cfb1"
    },
    {
      "cell_type": "markdown",
      "metadata": {
        "id": "ce725716-8f58-4991-8838-b3d07e36b730"
      },
      "source": [
        "# GPT function definitions"
      ],
      "id": "ce725716-8f58-4991-8838-b3d07e36b730"
    },
    {
      "cell_type": "code",
      "execution_count": null,
      "metadata": {
        "id": "d35ecada-3ca2-4a68-9b74-e72cbad23437"
      },
      "outputs": [],
      "source": [
        "from langchain.chat_models import AzureChatOpenAI, ChatVertexAI\n",
        "from langchain.embeddings import OpenAIEmbeddings, VertexAIEmbeddings\n",
        "from langchain.schema import (\n",
        "    AIMessage,\n",
        "    HumanMessage,\n",
        "    SystemMessage\n",
        ")\n",
        "from langchain.text_splitter import RecursiveCharacterTextSplitter,CharacterTextSplitter\n",
        "from langchain.vectorstores import FAISS\n",
        "from langchain.chains import ConversationalRetrievalChain\n",
        "from langchain.memory import ConversationBufferMemory\n",
        "from langchain.docstore.document import Document\n",
        "from langchain.document_loaders import DirectoryLoader\n",
        "from langchain.chains import AnalyzeDocumentChain\n",
        "from langchain.chains.summarize import load_summarize_chain\n",
        "from langchain.prompts.chat import (\n",
        "    ChatPromptTemplate,\n",
        "    SystemMessagePromptTemplate,\n",
        "    HumanMessagePromptTemplate,\n",
        ")\n",
        "import os\n",
        "os.environ[\"OPENAI_API_KEY\"] = \"be9bdecc8bf64e85bde69c04b2ad56f8\"\n",
        "os.environ[\"OPENAI_API_HOST\"] = \"https://tiaa-openai-azure-sweden.openai.azure.com/\"\n",
        "os.environ[\"OPENAI_API_EMBEDDING_KEY\"] = \"be9bdecc8bf64e85bde69c04b2ad56f8\"\n",
        "os.environ[\"OPENAI_API_EMBEDDING_HOST\"] = \"https://tiaa-openai-azure-sweden.openai.azure.com/\"\n",
        "os.environ[\"OPENAI_API_VERSION\"] =  \"2023-07-01-preview\"\n",
        "import openai\n",
        "openai.api_type='azure'\n",
        "openai.api_base = os.environ[\"OPENAI_API_HOST\"]\n",
        "openai.api_key = os.environ[\"OPENAI_API_KEY\"]\n",
        "#model_name='tiaa-gpt-4-32k'\n",
        "base_model_name=\"tiaa-gpt-4\"\n",
        "chosen_llm = AzureChatOpenAI(\n",
        "        openai_api_base=os.environ[\"OPENAI_API_HOST\"],\n",
        "        openai_api_version=os.environ[\"OPENAI_API_VERSION\"],\n",
        "        deployment_name=base_model_name,\n",
        "        openai_api_key=os.environ[\"OPENAI_API_KEY\"],\n",
        "        openai_api_type=\"azure\",\n",
        "        temperature=1\n",
        "    )\n",
        "embedding_model_name = 'tiaa-text-embedding-ada-002'\n",
        "chosen_embedding_model = OpenAIEmbeddings(\n",
        "        deployment=embedding_model_name,\n",
        "        openai_api_base=os.environ[\"OPENAI_API_EMBEDDING_HOST\"],\n",
        "        openai_api_version= os.environ[\"OPENAI_API_VERSION\"],\n",
        "        openai_api_key=os.environ[\"OPENAI_API_EMBEDDING_KEY\"],\n",
        "        openai_api_type=\"azure\",\n",
        "        chunk_size=16\n",
        "    )\n",
        "finalAnswerTheQuestionModel = AzureChatOpenAI(\n",
        "        openai_api_base=os.environ[\"OPENAI_API_HOST\"],\n",
        "        openai_api_version=os.environ[\"OPENAI_API_VERSION\"],\n",
        "        deployment_name=base_model_name,\n",
        "        openai_api_key=os.environ[\"OPENAI_API_KEY\"],\n",
        "        openai_api_type=\"azure\",\n",
        "        temperature=1,\n",
        "        verbose = True\n",
        "    )\n",
        "condensingTheQuestionModel = AzureChatOpenAI(\n",
        "        openai_api_base=os.environ[\"OPENAI_API_HOST\"],\n",
        "        openai_api_version=os.environ[\"OPENAI_API_VERSION\"],\n",
        "        deployment_name=base_model_name,\n",
        "        openai_api_key=os.environ[\"OPENAI_API_KEY\"],\n",
        "        openai_api_type=\"azure\",\n",
        "        temperature=1,\n",
        "        verbose = True\n",
        "    )\n",
        "memory = ConversationBufferMemory(\n",
        "    output_key='answer',\n",
        "    memory_key='chat_history',\n",
        "    return_messages=True\n",
        "    )\n"
      ],
      "id": "d35ecada-3ca2-4a68-9b74-e72cbad23437"
    },
    {
      "cell_type": "markdown",
      "source": [
        "# Core Logic"
      ],
      "metadata": {
        "id": "Q5M2Zkg3DDSW"
      },
      "id": "Q5M2Zkg3DDSW"
    },
    {
      "cell_type": "markdown",
      "source": [
        "Wrapping the output to display results in a suitable fashion."
      ],
      "metadata": {
        "id": "OJh658keDOFP"
      },
      "id": "OJh658keDOFP"
    },
    {
      "cell_type": "code",
      "execution_count": null,
      "metadata": {
        "id": "6I6COFgovYow"
      },
      "outputs": [],
      "source": [
        "from IPython.display import HTML, display\n",
        "\n",
        "def set_css():\n",
        "  display(HTML('''\n",
        "  <style>\n",
        "    pre {\n",
        "        white-space: pre-wrap;\n",
        "    }\n",
        "  </style>\n",
        "  '''))\n",
        "get_ipython().events.register('pre_run_cell', set_css)"
      ],
      "id": "6I6COFgovYow"
    },
    {
      "cell_type": "markdown",
      "source": [
        "The user is asked questions based on financial planning and retirement goals to get an understanding of their current standing as well as their future aspirations.\n",
        "\n",
        "This provides us and the GenAI model an understanding of the person and what kind of financial planning would suit him/her."
      ],
      "metadata": {
        "id": "AThIl4kJDjC7"
      },
      "id": "AThIl4kJDjC7"
    },
    {
      "cell_type": "code",
      "execution_count": null,
      "metadata": {
        "id": "urk_8p9a5jcI"
      },
      "outputs": [],
      "source": [
        "questions = []\n",
        "\n",
        "questions.append(\"Which of the following best describes you? a) I'm a meticulous planner, and I like to have a detailed financial roadmap for retirement.  b) I'm a free spirit, and I prefer a flexible approach to retirement planning. c) I'm risk-averse and prioritize the safety of my retirement investments. d) I'm uncertain\")\n",
        "\n",
        "questions = [\n",
        "    [\"q1) Which of the following best describes you?\",\n",
        "    \"1) I'm a meticulous planner, and I like to have a detailed financial roadmap for retirement.\",\n",
        "    \"2) I'm a free spirit, and I prefer a flexible approach to retirement planning.\",\n",
        "    \"3) I'm risk-averse and prioritize the safety of my retirement investments.\",\n",
        "    \"4) I'm uncertain\"],\n",
        "    [\"q2) What age do you envision retiring at?\",\n",
        "     \"1) 55 or earlier\",\n",
        "     \"2) 60-65\",\n",
        "     \"3) 66-70\",\n",
        "     \"4) After 70\"],\n",
        "    [\"q3) What is your primary retirement savings goal?\",\n",
        "     \"1) Financial independence\",\n",
        "     \"2) Travel and leisure\",\n",
        "     \"3) Supporting family\",\n",
        "     \"4) Leaving a legacy\"],\n",
        "    [\"q4) How diligently do you contribute to your retirement savings currently?\",\n",
        "     \"1) I consistently contribute the maximum allowed amount\",\n",
        "     \"2) I regularly contribute, but not the maximum\",\n",
        "     \"3) I contribute sporadically\",\n",
        "     \"4) I haven't started saving for retirement yet\"],\n",
        "    [\"q5) In your 20s, you suddenly receive a substantial amount of money. What's your immediate plan for this unexpected financial gain?\",\n",
        "     \"1) Invest a substantial portion in a retirement account.\",\n",
        "     \"2) Use it for a dream vacation or a significant purchase.\",\n",
        "     \"3) Pay off existing debts, including student loans.\",\n",
        "     \"4) I haven't considered it yet.\"]\n",
        "]\n",
        "\n",
        "res = []\n",
        "ans = int()\n",
        "for i in questions:\n",
        "  print(i[0])\n",
        "  print(i[1])\n",
        "  print(i[2])\n",
        "  print(i[3])\n",
        "  print(i[4])\n",
        "  ans = input(\"Choose between the options - 1, 2, 3 or 4 \")\n",
        "  res.append((i[0]+\" Ans: \"+i[int(ans)]))\n",
        "\n",
        "prompt =\"Generate a financial plan using the given questionnaire and the answers\"\n",
        "msg = HumanMessage(content=prompt + \"\".join(res))\n",
        "output=chosen_llm(messages=[msg])\n",
        "# print(output.content)\n"
      ],
      "id": "urk_8p9a5jcI"
    },
    {
      "cell_type": "markdown",
      "source": [
        "Based on the inferences made about the person's financial standing and future retirement aspirations, the LLM is used to determine what TIAA based retirement plan is to be suggested to the user.\n",
        "\n",
        "The LLM has been instructed to pick from the following plans and provide reasoning for making it's choice.\n",
        "The LLM was also fed TIAA's retirement plans and was made to provide key-words relating to each. This was used to infer similarities between the user's financial persona and the key-words.\n",
        "\n",
        "**1. Annuities and Investment Options**\n",
        "  - Financially Savvy\n",
        "  - Risk-Tolerant\n",
        "  - Strategic Planner\n",
        "  - Long-Term Oriented\n",
        "  - Goal-Driven\n",
        "  - Investment-Minded\n",
        "  - Open to Diversification\n",
        "  - Patient Investor\n",
        "  - Prudent Decision-Maker\n",
        "  - Future-Focused\n",
        "  \n",
        "**2. Employer-Sponsored Retirement Plans:**\n",
        "  - Employee Benefits-Conscious\n",
        "  - Company-Loyal\n",
        "  - Retirement-Ready\n",
        "  - Team Player\n",
        "  - Goal-Oriented\n",
        "  - Responsible Saver\n",
        "  - Cooperative\n",
        "  - Long-Term Planner\n",
        "  - Company Culture-Engaged\n",
        "  - Tax-Efficient Investor\n",
        "\n",
        "**3. Individual Retirement Accounts (IRAs):**\n",
        "  - Independent Planner\n",
        "  - Self-Directed Investor\n",
        "  - Tax-Conscious\n",
        "  - Financially Independent\n",
        "  - Goal-Driven Saver\n",
        "  - Future-Forward\n",
        "  - Personal Responsibility\n",
        "  - Long-Term Planner\n",
        "  - Tax-Efficient Saver\n",
        "  - Future-Focused\n",
        "\n",
        "**4. TIAA Advisory Services:**\n",
        "  - Seeker of Expertise\n",
        "  - Informed Decision-Maker\n",
        "  - Financially Literate\n",
        "  - Seeking Guidance\n",
        "  - Trusting\n",
        "  - Willing to Learn\n",
        "  - Goal-Oriented\n",
        "  - Long-Term Planner\n",
        "  - Open to Advice\n",
        "  - Collaborative\n",
        "\n",
        "**5. Lifetime Income Options:**\n",
        "  - Risk-Averse\n",
        "  - Stability-Seeking\n",
        "  - Future-Focused\n",
        "  - Long-Term Planner\n",
        "  - Security-Conscious\n",
        "  - Patient Investor\n",
        "  - Annuity-Minded\n",
        "  - Financially Cautious\n",
        "  - Retirement-Ready\n",
        "  - Steady Income-Seeking\n",
        "\n",
        "**6. Long-Term Care Insurance:**\n",
        "  - Prudent Planner\n",
        "  - Health-Conscious\n",
        "  - Future-Prepared\n",
        "  - Risk-Aware\n",
        "  - Safety-Minded\n",
        "  - Responsible\n",
        "  - Health-Considerate\n",
        "  - Focused on Well-Being\n",
        "  - Caring for the Future\n",
        "  - Prepared for Contingencies\n",
        "\n",
        "**7. Education and Workshops:**\n",
        "  - Eager to Learn\n",
        "  - Inquisitive\n",
        "  - Proactive Learner\n",
        "  - Financially Literate\n",
        "  - Open to Education\n",
        "  - Seeking Knowledge\n",
        "  - Goal-Oriented Learner\n",
        "  - Empowered\n",
        "  - Committed to Learning\n",
        "  - Future-Forward\n",
        "\n",
        "**8. Socially Responsible Investing:**\n",
        "  - Ethically Conscious\n",
        "  - Environmentally Aware\n",
        "  - Socially Committed\n",
        "  - Values-Driven\n",
        "  - Sustainable-Minded\n",
        "  - Responsible Investor\n",
        "  - Impact-Driven\n",
        "  - Aligned with Values\n",
        "  - Future-Forward\n",
        "  - Socially Engaged\n",
        "\n",
        "**9. Customer Support and Service:**\n",
        "  - Customer-Centric\n",
        "  - Relationship-Focused\n",
        "  - Service-Oriented\n",
        "  - Patient\n",
        "  - Communicative\n",
        "  - Support-Seeking\n",
        "  - Trusting\n",
        "  - Open to Guidance\n",
        "  - Seeking Assistance\n",
        "  - Empathetic\n",
        "\n",
        "**10. Legacy Planning and Estate Services:**\n",
        "  - Forward-Thinking\n",
        "  - Family-Oriented\n",
        "  - Responsible Steward\n",
        "  - Goal-Oriented Planner\n",
        "  - Values Family and Legacy\n",
        "  - Estate-Conscious\n",
        "  - Willing to Plan Ahead\n",
        "  - Legacy-Driven\n",
        "  - Future-Focused\n",
        "  - Responsible for Generations\n"
      ],
      "metadata": {
        "id": "3vYT71rDEHcI"
      },
      "id": "3vYT71rDEHcI"
    },
    {
      "cell_type": "code",
      "source": [
        "suggestion_prompt = \"Suggest strictly two best suited TIAA plans with explanation from the following - Annuities and Investment Options,Employer-Sponsored Retirement Plans, Individual Retirement Accounts (IRAs),TIAA Advisory Services,Lifetime Income Options,Long-Term Care Insurance,Education and Workshops,Socially Responsible Investing,Customer Support and Service,Legacy Planning and Estate Services from the given result: \"+str(output.content)\n",
        "msg = HumanMessage(content=suggestion_prompt)\n",
        "output=chosen_llm(messages=[msg])\n",
        "print(output.content)"
      ],
      "metadata": {
        "id": "lR5SnRaOQHbm"
      },
      "id": "lR5SnRaOQHbm",
      "execution_count": null,
      "outputs": []
    },
    {
      "cell_type": "code",
      "source": [],
      "metadata": {
        "id": "D_Fj1OmsWdMr"
      },
      "id": "D_Fj1OmsWdMr",
      "execution_count": null,
      "outputs": []
    }
  ],
  "metadata": {
    "availableInstances": [
      {
        "_defaultOrder": 0,
        "_isFastLaunch": true,
        "category": "General purpose",
        "gpuNum": 0,
        "hideHardwareSpecs": false,
        "memoryGiB": 4,
        "name": "ml.t3.medium",
        "vcpuNum": 2
      },
      {
        "_defaultOrder": 1,
        "_isFastLaunch": false,
        "category": "General purpose",
        "gpuNum": 0,
        "hideHardwareSpecs": false,
        "memoryGiB": 8,
        "name": "ml.t3.large",
        "vcpuNum": 2
      },
      {
        "_defaultOrder": 2,
        "_isFastLaunch": false,
        "category": "General purpose",
        "gpuNum": 0,
        "hideHardwareSpecs": false,
        "memoryGiB": 16,
        "name": "ml.t3.xlarge",
        "vcpuNum": 4
      },
      {
        "_defaultOrder": 3,
        "_isFastLaunch": false,
        "category": "General purpose",
        "gpuNum": 0,
        "hideHardwareSpecs": false,
        "memoryGiB": 32,
        "name": "ml.t3.2xlarge",
        "vcpuNum": 8
      },
      {
        "_defaultOrder": 4,
        "_isFastLaunch": true,
        "category": "General purpose",
        "gpuNum": 0,
        "hideHardwareSpecs": false,
        "memoryGiB": 8,
        "name": "ml.m5.large",
        "vcpuNum": 2
      },
      {
        "_defaultOrder": 5,
        "_isFastLaunch": false,
        "category": "General purpose",
        "gpuNum": 0,
        "hideHardwareSpecs": false,
        "memoryGiB": 16,
        "name": "ml.m5.xlarge",
        "vcpuNum": 4
      },
      {
        "_defaultOrder": 6,
        "_isFastLaunch": false,
        "category": "General purpose",
        "gpuNum": 0,
        "hideHardwareSpecs": false,
        "memoryGiB": 32,
        "name": "ml.m5.2xlarge",
        "vcpuNum": 8
      },
      {
        "_defaultOrder": 7,
        "_isFastLaunch": false,
        "category": "General purpose",
        "gpuNum": 0,
        "hideHardwareSpecs": false,
        "memoryGiB": 64,
        "name": "ml.m5.4xlarge",
        "vcpuNum": 16
      },
      {
        "_defaultOrder": 8,
        "_isFastLaunch": false,
        "category": "General purpose",
        "gpuNum": 0,
        "hideHardwareSpecs": false,
        "memoryGiB": 128,
        "name": "ml.m5.8xlarge",
        "vcpuNum": 32
      },
      {
        "_defaultOrder": 9,
        "_isFastLaunch": false,
        "category": "General purpose",
        "gpuNum": 0,
        "hideHardwareSpecs": false,
        "memoryGiB": 192,
        "name": "ml.m5.12xlarge",
        "vcpuNum": 48
      },
      {
        "_defaultOrder": 10,
        "_isFastLaunch": false,
        "category": "General purpose",
        "gpuNum": 0,
        "hideHardwareSpecs": false,
        "memoryGiB": 256,
        "name": "ml.m5.16xlarge",
        "vcpuNum": 64
      },
      {
        "_defaultOrder": 11,
        "_isFastLaunch": false,
        "category": "General purpose",
        "gpuNum": 0,
        "hideHardwareSpecs": false,
        "memoryGiB": 384,
        "name": "ml.m5.24xlarge",
        "vcpuNum": 96
      },
      {
        "_defaultOrder": 12,
        "_isFastLaunch": false,
        "category": "General purpose",
        "gpuNum": 0,
        "hideHardwareSpecs": false,
        "memoryGiB": 8,
        "name": "ml.m5d.large",
        "vcpuNum": 2
      },
      {
        "_defaultOrder": 13,
        "_isFastLaunch": false,
        "category": "General purpose",
        "gpuNum": 0,
        "hideHardwareSpecs": false,
        "memoryGiB": 16,
        "name": "ml.m5d.xlarge",
        "vcpuNum": 4
      },
      {
        "_defaultOrder": 14,
        "_isFastLaunch": false,
        "category": "General purpose",
        "gpuNum": 0,
        "hideHardwareSpecs": false,
        "memoryGiB": 32,
        "name": "ml.m5d.2xlarge",
        "vcpuNum": 8
      },
      {
        "_defaultOrder": 15,
        "_isFastLaunch": false,
        "category": "General purpose",
        "gpuNum": 0,
        "hideHardwareSpecs": false,
        "memoryGiB": 64,
        "name": "ml.m5d.4xlarge",
        "vcpuNum": 16
      },
      {
        "_defaultOrder": 16,
        "_isFastLaunch": false,
        "category": "General purpose",
        "gpuNum": 0,
        "hideHardwareSpecs": false,
        "memoryGiB": 128,
        "name": "ml.m5d.8xlarge",
        "vcpuNum": 32
      },
      {
        "_defaultOrder": 17,
        "_isFastLaunch": false,
        "category": "General purpose",
        "gpuNum": 0,
        "hideHardwareSpecs": false,
        "memoryGiB": 192,
        "name": "ml.m5d.12xlarge",
        "vcpuNum": 48
      },
      {
        "_defaultOrder": 18,
        "_isFastLaunch": false,
        "category": "General purpose",
        "gpuNum": 0,
        "hideHardwareSpecs": false,
        "memoryGiB": 256,
        "name": "ml.m5d.16xlarge",
        "vcpuNum": 64
      },
      {
        "_defaultOrder": 19,
        "_isFastLaunch": false,
        "category": "General purpose",
        "gpuNum": 0,
        "hideHardwareSpecs": false,
        "memoryGiB": 384,
        "name": "ml.m5d.24xlarge",
        "vcpuNum": 96
      },
      {
        "_defaultOrder": 20,
        "_isFastLaunch": false,
        "category": "General purpose",
        "gpuNum": 0,
        "hideHardwareSpecs": true,
        "memoryGiB": 0,
        "name": "ml.geospatial.interactive",
        "supportedImageNames": [
          "sagemaker-geospatial-v1-0"
        ],
        "vcpuNum": 0
      },
      {
        "_defaultOrder": 21,
        "_isFastLaunch": true,
        "category": "Compute optimized",
        "gpuNum": 0,
        "hideHardwareSpecs": false,
        "memoryGiB": 4,
        "name": "ml.c5.large",
        "vcpuNum": 2
      },
      {
        "_defaultOrder": 22,
        "_isFastLaunch": false,
        "category": "Compute optimized",
        "gpuNum": 0,
        "hideHardwareSpecs": false,
        "memoryGiB": 8,
        "name": "ml.c5.xlarge",
        "vcpuNum": 4
      },
      {
        "_defaultOrder": 23,
        "_isFastLaunch": false,
        "category": "Compute optimized",
        "gpuNum": 0,
        "hideHardwareSpecs": false,
        "memoryGiB": 16,
        "name": "ml.c5.2xlarge",
        "vcpuNum": 8
      },
      {
        "_defaultOrder": 24,
        "_isFastLaunch": false,
        "category": "Compute optimized",
        "gpuNum": 0,
        "hideHardwareSpecs": false,
        "memoryGiB": 32,
        "name": "ml.c5.4xlarge",
        "vcpuNum": 16
      },
      {
        "_defaultOrder": 25,
        "_isFastLaunch": false,
        "category": "Compute optimized",
        "gpuNum": 0,
        "hideHardwareSpecs": false,
        "memoryGiB": 72,
        "name": "ml.c5.9xlarge",
        "vcpuNum": 36
      },
      {
        "_defaultOrder": 26,
        "_isFastLaunch": false,
        "category": "Compute optimized",
        "gpuNum": 0,
        "hideHardwareSpecs": false,
        "memoryGiB": 96,
        "name": "ml.c5.12xlarge",
        "vcpuNum": 48
      },
      {
        "_defaultOrder": 27,
        "_isFastLaunch": false,
        "category": "Compute optimized",
        "gpuNum": 0,
        "hideHardwareSpecs": false,
        "memoryGiB": 144,
        "name": "ml.c5.18xlarge",
        "vcpuNum": 72
      },
      {
        "_defaultOrder": 28,
        "_isFastLaunch": false,
        "category": "Compute optimized",
        "gpuNum": 0,
        "hideHardwareSpecs": false,
        "memoryGiB": 192,
        "name": "ml.c5.24xlarge",
        "vcpuNum": 96
      },
      {
        "_defaultOrder": 29,
        "_isFastLaunch": true,
        "category": "Accelerated computing",
        "gpuNum": 1,
        "hideHardwareSpecs": false,
        "memoryGiB": 16,
        "name": "ml.g4dn.xlarge",
        "vcpuNum": 4
      },
      {
        "_defaultOrder": 30,
        "_isFastLaunch": false,
        "category": "Accelerated computing",
        "gpuNum": 1,
        "hideHardwareSpecs": false,
        "memoryGiB": 32,
        "name": "ml.g4dn.2xlarge",
        "vcpuNum": 8
      },
      {
        "_defaultOrder": 31,
        "_isFastLaunch": false,
        "category": "Accelerated computing",
        "gpuNum": 1,
        "hideHardwareSpecs": false,
        "memoryGiB": 64,
        "name": "ml.g4dn.4xlarge",
        "vcpuNum": 16
      },
      {
        "_defaultOrder": 32,
        "_isFastLaunch": false,
        "category": "Accelerated computing",
        "gpuNum": 1,
        "hideHardwareSpecs": false,
        "memoryGiB": 128,
        "name": "ml.g4dn.8xlarge",
        "vcpuNum": 32
      },
      {
        "_defaultOrder": 33,
        "_isFastLaunch": false,
        "category": "Accelerated computing",
        "gpuNum": 4,
        "hideHardwareSpecs": false,
        "memoryGiB": 192,
        "name": "ml.g4dn.12xlarge",
        "vcpuNum": 48
      },
      {
        "_defaultOrder": 34,
        "_isFastLaunch": false,
        "category": "Accelerated computing",
        "gpuNum": 1,
        "hideHardwareSpecs": false,
        "memoryGiB": 256,
        "name": "ml.g4dn.16xlarge",
        "vcpuNum": 64
      },
      {
        "_defaultOrder": 35,
        "_isFastLaunch": false,
        "category": "Accelerated computing",
        "gpuNum": 1,
        "hideHardwareSpecs": false,
        "memoryGiB": 61,
        "name": "ml.p3.2xlarge",
        "vcpuNum": 8
      },
      {
        "_defaultOrder": 36,
        "_isFastLaunch": false,
        "category": "Accelerated computing",
        "gpuNum": 4,
        "hideHardwareSpecs": false,
        "memoryGiB": 244,
        "name": "ml.p3.8xlarge",
        "vcpuNum": 32
      },
      {
        "_defaultOrder": 37,
        "_isFastLaunch": false,
        "category": "Accelerated computing",
        "gpuNum": 8,
        "hideHardwareSpecs": false,
        "memoryGiB": 488,
        "name": "ml.p3.16xlarge",
        "vcpuNum": 64
      },
      {
        "_defaultOrder": 38,
        "_isFastLaunch": false,
        "category": "Accelerated computing",
        "gpuNum": 8,
        "hideHardwareSpecs": false,
        "memoryGiB": 768,
        "name": "ml.p3dn.24xlarge",
        "vcpuNum": 96
      },
      {
        "_defaultOrder": 39,
        "_isFastLaunch": false,
        "category": "Memory Optimized",
        "gpuNum": 0,
        "hideHardwareSpecs": false,
        "memoryGiB": 16,
        "name": "ml.r5.large",
        "vcpuNum": 2
      },
      {
        "_defaultOrder": 40,
        "_isFastLaunch": false,
        "category": "Memory Optimized",
        "gpuNum": 0,
        "hideHardwareSpecs": false,
        "memoryGiB": 32,
        "name": "ml.r5.xlarge",
        "vcpuNum": 4
      },
      {
        "_defaultOrder": 41,
        "_isFastLaunch": false,
        "category": "Memory Optimized",
        "gpuNum": 0,
        "hideHardwareSpecs": false,
        "memoryGiB": 64,
        "name": "ml.r5.2xlarge",
        "vcpuNum": 8
      },
      {
        "_defaultOrder": 42,
        "_isFastLaunch": false,
        "category": "Memory Optimized",
        "gpuNum": 0,
        "hideHardwareSpecs": false,
        "memoryGiB": 128,
        "name": "ml.r5.4xlarge",
        "vcpuNum": 16
      },
      {
        "_defaultOrder": 43,
        "_isFastLaunch": false,
        "category": "Memory Optimized",
        "gpuNum": 0,
        "hideHardwareSpecs": false,
        "memoryGiB": 256,
        "name": "ml.r5.8xlarge",
        "vcpuNum": 32
      },
      {
        "_defaultOrder": 44,
        "_isFastLaunch": false,
        "category": "Memory Optimized",
        "gpuNum": 0,
        "hideHardwareSpecs": false,
        "memoryGiB": 384,
        "name": "ml.r5.12xlarge",
        "vcpuNum": 48
      },
      {
        "_defaultOrder": 45,
        "_isFastLaunch": false,
        "category": "Memory Optimized",
        "gpuNum": 0,
        "hideHardwareSpecs": false,
        "memoryGiB": 512,
        "name": "ml.r5.16xlarge",
        "vcpuNum": 64
      },
      {
        "_defaultOrder": 46,
        "_isFastLaunch": false,
        "category": "Memory Optimized",
        "gpuNum": 0,
        "hideHardwareSpecs": false,
        "memoryGiB": 768,
        "name": "ml.r5.24xlarge",
        "vcpuNum": 96
      },
      {
        "_defaultOrder": 47,
        "_isFastLaunch": false,
        "category": "Accelerated computing",
        "gpuNum": 1,
        "hideHardwareSpecs": false,
        "memoryGiB": 16,
        "name": "ml.g5.xlarge",
        "vcpuNum": 4
      },
      {
        "_defaultOrder": 48,
        "_isFastLaunch": false,
        "category": "Accelerated computing",
        "gpuNum": 1,
        "hideHardwareSpecs": false,
        "memoryGiB": 32,
        "name": "ml.g5.2xlarge",
        "vcpuNum": 8
      },
      {
        "_defaultOrder": 49,
        "_isFastLaunch": false,
        "category": "Accelerated computing",
        "gpuNum": 1,
        "hideHardwareSpecs": false,
        "memoryGiB": 64,
        "name": "ml.g5.4xlarge",
        "vcpuNum": 16
      },
      {
        "_defaultOrder": 50,
        "_isFastLaunch": false,
        "category": "Accelerated computing",
        "gpuNum": 1,
        "hideHardwareSpecs": false,
        "memoryGiB": 128,
        "name": "ml.g5.8xlarge",
        "vcpuNum": 32
      },
      {
        "_defaultOrder": 51,
        "_isFastLaunch": false,
        "category": "Accelerated computing",
        "gpuNum": 1,
        "hideHardwareSpecs": false,
        "memoryGiB": 256,
        "name": "ml.g5.16xlarge",
        "vcpuNum": 64
      },
      {
        "_defaultOrder": 52,
        "_isFastLaunch": false,
        "category": "Accelerated computing",
        "gpuNum": 4,
        "hideHardwareSpecs": false,
        "memoryGiB": 192,
        "name": "ml.g5.12xlarge",
        "vcpuNum": 48
      },
      {
        "_defaultOrder": 53,
        "_isFastLaunch": false,
        "category": "Accelerated computing",
        "gpuNum": 4,
        "hideHardwareSpecs": false,
        "memoryGiB": 384,
        "name": "ml.g5.24xlarge",
        "vcpuNum": 96
      },
      {
        "_defaultOrder": 54,
        "_isFastLaunch": false,
        "category": "Accelerated computing",
        "gpuNum": 8,
        "hideHardwareSpecs": false,
        "memoryGiB": 768,
        "name": "ml.g5.48xlarge",
        "vcpuNum": 192
      },
      {
        "_defaultOrder": 55,
        "_isFastLaunch": false,
        "category": "Accelerated computing",
        "gpuNum": 8,
        "hideHardwareSpecs": false,
        "memoryGiB": 1152,
        "name": "ml.p4d.24xlarge",
        "vcpuNum": 96
      },
      {
        "_defaultOrder": 56,
        "_isFastLaunch": false,
        "category": "Accelerated computing",
        "gpuNum": 8,
        "hideHardwareSpecs": false,
        "memoryGiB": 1152,
        "name": "ml.p4de.24xlarge",
        "vcpuNum": 96
      }
    ],
    "colab": {
      "provenance": []
    },
    "instance_type": "ml.t3.medium",
    "kernelspec": {
      "display_name": "Python 3 (Data Science 3.0)",
      "language": "python",
      "name": "python3__SAGEMAKER_INTERNAL__arn:aws:sagemaker:us-east-1:081325390199:image/sagemaker-data-science-310-v1"
    },
    "language_info": {
      "codemirror_mode": {
        "name": "ipython",
        "version": 3
      },
      "file_extension": ".py",
      "mimetype": "text/x-python",
      "name": "python",
      "nbconvert_exporter": "python",
      "pygments_lexer": "ipython3",
      "version": "3.10.6"
    }
  },
  "nbformat": 4,
  "nbformat_minor": 5
}