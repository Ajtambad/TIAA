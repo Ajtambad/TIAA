{
  "cells": [
    {
      "cell_type": "markdown",
      "source": [
        "#**MoneyMoves!**\n",
        "A Quiz based approach to retirement planning suggestions"
      ],
      "metadata": {
        "id": "Q6LAiBVyL4we"
      },
      "id": "Q6LAiBVyL4we"
    },
    {
      "cell_type": "code",
      "execution_count": 12,
      "metadata": {
        "colab": {
          "base_uri": "https://localhost:8080/",
          "height": 979
        },
        "id": "06d48ee7-36c3-4107-aef6-faa1c294cfb1",
        "outputId": "593f66fd-cc09-4517-9601-d425090bef1d"
      },
      "outputs": [
        {
          "output_type": "display_data",
          "data": {
            "text/plain": [
              "<IPython.core.display.HTML object>"
            ],
            "text/html": [
              "\n",
              "  <style>\n",
              "    pre {\n",
              "        white-space: pre-wrap;\n",
              "    }\n",
              "  </style>\n",
              "  "
            ]
          },
          "metadata": {}
        },
        {
          "output_type": "stream",
          "name": "stdout",
          "text": [
            "Requirement already satisfied: openai in /usr/local/lib/python3.10/dist-packages (0.28.1)\n",
            "Requirement already satisfied: requests>=2.20 in /usr/local/lib/python3.10/dist-packages (from openai) (2.31.0)\n",
            "Requirement already satisfied: tqdm in /usr/local/lib/python3.10/dist-packages (from openai) (4.66.1)\n",
            "Requirement already satisfied: aiohttp in /usr/local/lib/python3.10/dist-packages (from openai) (3.8.6)\n",
            "Requirement already satisfied: charset-normalizer<4,>=2 in /usr/local/lib/python3.10/dist-packages (from requests>=2.20->openai) (3.3.1)\n",
            "Requirement already satisfied: idna<4,>=2.5 in /usr/local/lib/python3.10/dist-packages (from requests>=2.20->openai) (3.4)\n",
            "Requirement already satisfied: urllib3<3,>=1.21.1 in /usr/local/lib/python3.10/dist-packages (from requests>=2.20->openai) (2.0.7)\n",
            "Requirement already satisfied: certifi>=2017.4.17 in /usr/local/lib/python3.10/dist-packages (from requests>=2.20->openai) (2023.7.22)\n",
            "Requirement already satisfied: attrs>=17.3.0 in /usr/local/lib/python3.10/dist-packages (from aiohttp->openai) (23.1.0)\n",
            "Requirement already satisfied: multidict<7.0,>=4.5 in /usr/local/lib/python3.10/dist-packages (from aiohttp->openai) (6.0.4)\n",
            "Requirement already satisfied: async-timeout<5.0,>=4.0.0a3 in /usr/local/lib/python3.10/dist-packages (from aiohttp->openai) (4.0.3)\n",
            "Requirement already satisfied: yarl<2.0,>=1.0 in /usr/local/lib/python3.10/dist-packages (from aiohttp->openai) (1.9.2)\n",
            "Requirement already satisfied: frozenlist>=1.1.1 in /usr/local/lib/python3.10/dist-packages (from aiohttp->openai) (1.4.0)\n",
            "Requirement already satisfied: aiosignal>=1.1.2 in /usr/local/lib/python3.10/dist-packages (from aiohttp->openai) (1.3.1)\n",
            "Requirement already satisfied: langchain in /usr/local/lib/python3.10/dist-packages (0.0.330)\n",
            "Requirement already satisfied: PyYAML>=5.3 in /usr/local/lib/python3.10/dist-packages (from langchain) (6.0.1)\n",
            "Requirement already satisfied: SQLAlchemy<3,>=1.4 in /usr/local/lib/python3.10/dist-packages (from langchain) (2.0.22)\n",
            "Requirement already satisfied: aiohttp<4.0.0,>=3.8.3 in /usr/local/lib/python3.10/dist-packages (from langchain) (3.8.6)\n",
            "Requirement already satisfied: anyio<4.0 in /usr/local/lib/python3.10/dist-packages (from langchain) (3.7.1)\n",
            "Requirement already satisfied: async-timeout<5.0.0,>=4.0.0 in /usr/local/lib/python3.10/dist-packages (from langchain) (4.0.3)\n",
            "Requirement already satisfied: dataclasses-json<0.7,>=0.5.7 in /usr/local/lib/python3.10/dist-packages (from langchain) (0.6.1)\n",
            "Requirement already satisfied: jsonpatch<2.0,>=1.33 in /usr/local/lib/python3.10/dist-packages (from langchain) (1.33)\n",
            "Requirement already satisfied: langsmith<0.1.0,>=0.0.52 in /usr/local/lib/python3.10/dist-packages (from langchain) (0.0.57)\n",
            "Requirement already satisfied: numpy<2,>=1 in /usr/local/lib/python3.10/dist-packages (from langchain) (1.23.5)\n",
            "Requirement already satisfied: pydantic<3,>=1 in /usr/local/lib/python3.10/dist-packages (from langchain) (1.10.13)\n",
            "Requirement already satisfied: requests<3,>=2 in /usr/local/lib/python3.10/dist-packages (from langchain) (2.31.0)\n",
            "Requirement already satisfied: tenacity<9.0.0,>=8.1.0 in /usr/local/lib/python3.10/dist-packages (from langchain) (8.2.3)\n",
            "Requirement already satisfied: attrs>=17.3.0 in /usr/local/lib/python3.10/dist-packages (from aiohttp<4.0.0,>=3.8.3->langchain) (23.1.0)\n",
            "Requirement already satisfied: charset-normalizer<4.0,>=2.0 in /usr/local/lib/python3.10/dist-packages (from aiohttp<4.0.0,>=3.8.3->langchain) (3.3.1)\n",
            "Requirement already satisfied: multidict<7.0,>=4.5 in /usr/local/lib/python3.10/dist-packages (from aiohttp<4.0.0,>=3.8.3->langchain) (6.0.4)\n",
            "Requirement already satisfied: yarl<2.0,>=1.0 in /usr/local/lib/python3.10/dist-packages (from aiohttp<4.0.0,>=3.8.3->langchain) (1.9.2)\n",
            "Requirement already satisfied: frozenlist>=1.1.1 in /usr/local/lib/python3.10/dist-packages (from aiohttp<4.0.0,>=3.8.3->langchain) (1.4.0)\n",
            "Requirement already satisfied: aiosignal>=1.1.2 in /usr/local/lib/python3.10/dist-packages (from aiohttp<4.0.0,>=3.8.3->langchain) (1.3.1)\n",
            "Requirement already satisfied: idna>=2.8 in /usr/local/lib/python3.10/dist-packages (from anyio<4.0->langchain) (3.4)\n",
            "Requirement already satisfied: sniffio>=1.1 in /usr/local/lib/python3.10/dist-packages (from anyio<4.0->langchain) (1.3.0)\n",
            "Requirement already satisfied: exceptiongroup in /usr/local/lib/python3.10/dist-packages (from anyio<4.0->langchain) (1.1.3)\n",
            "Requirement already satisfied: marshmallow<4.0.0,>=3.18.0 in /usr/local/lib/python3.10/dist-packages (from dataclasses-json<0.7,>=0.5.7->langchain) (3.20.1)\n",
            "Requirement already satisfied: typing-inspect<1,>=0.4.0 in /usr/local/lib/python3.10/dist-packages (from dataclasses-json<0.7,>=0.5.7->langchain) (0.9.0)\n",
            "Requirement already satisfied: jsonpointer>=1.9 in /usr/local/lib/python3.10/dist-packages (from jsonpatch<2.0,>=1.33->langchain) (2.4)\n",
            "Requirement already satisfied: typing-extensions>=4.2.0 in /usr/local/lib/python3.10/dist-packages (from pydantic<3,>=1->langchain) (4.5.0)\n",
            "Requirement already satisfied: urllib3<3,>=1.21.1 in /usr/local/lib/python3.10/dist-packages (from requests<3,>=2->langchain) (2.0.7)\n",
            "Requirement already satisfied: certifi>=2017.4.17 in /usr/local/lib/python3.10/dist-packages (from requests<3,>=2->langchain) (2023.7.22)\n",
            "Requirement already satisfied: greenlet!=0.4.17 in /usr/local/lib/python3.10/dist-packages (from SQLAlchemy<3,>=1.4->langchain) (3.0.0)\n",
            "Requirement already satisfied: packaging>=17.0 in /usr/local/lib/python3.10/dist-packages (from marshmallow<4.0.0,>=3.18.0->dataclasses-json<0.7,>=0.5.7->langchain) (23.2)\n",
            "Requirement already satisfied: mypy-extensions>=0.3.0 in /usr/local/lib/python3.10/dist-packages (from typing-inspect<1,>=0.4.0->dataclasses-json<0.7,>=0.5.7->langchain) (1.0.0)\n",
            "Requirement already satisfied: tiktoken in /usr/local/lib/python3.10/dist-packages (0.5.1)\n",
            "Requirement already satisfied: regex>=2022.1.18 in /usr/local/lib/python3.10/dist-packages (from tiktoken) (2023.6.3)\n",
            "Requirement already satisfied: requests>=2.26.0 in /usr/local/lib/python3.10/dist-packages (from tiktoken) (2.31.0)\n",
            "Requirement already satisfied: charset-normalizer<4,>=2 in /usr/local/lib/python3.10/dist-packages (from requests>=2.26.0->tiktoken) (3.3.1)\n",
            "Requirement already satisfied: idna<4,>=2.5 in /usr/local/lib/python3.10/dist-packages (from requests>=2.26.0->tiktoken) (3.4)\n",
            "Requirement already satisfied: urllib3<3,>=1.21.1 in /usr/local/lib/python3.10/dist-packages (from requests>=2.26.0->tiktoken) (2.0.7)\n",
            "Requirement already satisfied: certifi>=2017.4.17 in /usr/local/lib/python3.10/dist-packages (from requests>=2.26.0->tiktoken) (2023.7.22)\n",
            "Requirement already satisfied: faiss-cpu in /usr/local/lib/python3.10/dist-packages (1.7.4)\n"
          ]
        }
      ],
      "source": [
        "## Run this cell once without comments to install packages, then comment them out.\n",
        "!pip install openai\n",
        "!pip install langchain\n",
        "!pip install tiktoken\n",
        "!pip install faiss-cpu"
      ],
      "id": "06d48ee7-36c3-4107-aef6-faa1c294cfb1"
    },
    {
      "cell_type": "code",
      "execution_count": 13,
      "metadata": {
        "id": "d35ecada-3ca2-4a68-9b74-e72cbad23437",
        "colab": {
          "base_uri": "https://localhost:8080/",
          "height": 17
        },
        "outputId": "d666f99b-3f1f-4e4b-94a6-eb7dfe308a54"
      },
      "outputs": [
        {
          "output_type": "display_data",
          "data": {
            "text/plain": [
              "<IPython.core.display.HTML object>"
            ],
            "text/html": [
              "\n",
              "  <style>\n",
              "    pre {\n",
              "        white-space: pre-wrap;\n",
              "    }\n",
              "  </style>\n",
              "  "
            ]
          },
          "metadata": {}
        }
      ],
      "source": [
        "from langchain.chat_models import AzureChatOpenAI, ChatVertexAI\n",
        "from langchain.embeddings import OpenAIEmbeddings, VertexAIEmbeddings\n",
        "from langchain.schema import (\n",
        "    AIMessage,\n",
        "    HumanMessage,\n",
        "    SystemMessage\n",
        ")\n",
        "from langchain.text_splitter import RecursiveCharacterTextSplitter,CharacterTextSplitter\n",
        "from langchain.vectorstores import FAISS\n",
        "from langchain.chains import ConversationalRetrievalChain\n",
        "from langchain.memory import ConversationBufferMemory\n",
        "from langchain.docstore.document import Document\n",
        "from langchain.document_loaders import DirectoryLoader\n",
        "from langchain.chains import AnalyzeDocumentChain\n",
        "from langchain.chains.summarize import load_summarize_chain\n",
        "from langchain.prompts.chat import (\n",
        "    ChatPromptTemplate,\n",
        "    SystemMessagePromptTemplate,\n",
        "    HumanMessagePromptTemplate,\n",
        ")\n",
        "import os\n",
        "os.environ[\"OPENAI_API_KEY\"] = \"be9bdecc8bf64e85bde69c04b2ad56f8\"\n",
        "os.environ[\"OPENAI_API_HOST\"] = \"https://tiaa-openai-azure-sweden.openai.azure.com/\"\n",
        "os.environ[\"OPENAI_API_EMBEDDING_KEY\"] = \"be9bdecc8bf64e85bde69c04b2ad56f8\"\n",
        "os.environ[\"OPENAI_API_EMBEDDING_HOST\"] = \"https://tiaa-openai-azure-sweden.openai.azure.com/\"\n",
        "os.environ[\"OPENAI_API_VERSION\"] =  \"2023-07-01-preview\"\n",
        "import openai\n",
        "openai.api_type='azure'\n",
        "openai.api_base = os.environ[\"OPENAI_API_HOST\"]\n",
        "openai.api_key = os.environ[\"OPENAI_API_KEY\"]\n",
        "#model_name='tiaa-gpt-4-32k'\n",
        "base_model_name=\"tiaa-gpt-4\"\n",
        "chosen_llm = AzureChatOpenAI(\n",
        "        openai_api_base=os.environ[\"OPENAI_API_HOST\"],\n",
        "        openai_api_version=os.environ[\"OPENAI_API_VERSION\"],\n",
        "        deployment_name=base_model_name,\n",
        "        openai_api_key=os.environ[\"OPENAI_API_KEY\"],\n",
        "        openai_api_type=\"azure\",\n",
        "        temperature=1\n",
        "    )\n",
        "embedding_model_name = 'tiaa-text-embedding-ada-002'\n",
        "chosen_embedding_model = OpenAIEmbeddings(\n",
        "        deployment=embedding_model_name,\n",
        "        openai_api_base=os.environ[\"OPENAI_API_EMBEDDING_HOST\"],\n",
        "        openai_api_version= os.environ[\"OPENAI_API_VERSION\"],\n",
        "        openai_api_key=os.environ[\"OPENAI_API_EMBEDDING_KEY\"],\n",
        "        openai_api_type=\"azure\",\n",
        "        chunk_size=16\n",
        "    )\n",
        "finalAnswerTheQuestionModel = AzureChatOpenAI(\n",
        "        openai_api_base=os.environ[\"OPENAI_API_HOST\"],\n",
        "        openai_api_version=os.environ[\"OPENAI_API_VERSION\"],\n",
        "        deployment_name=base_model_name,\n",
        "        openai_api_key=os.environ[\"OPENAI_API_KEY\"],\n",
        "        openai_api_type=\"azure\",\n",
        "        temperature=1,\n",
        "        verbose = True\n",
        "    )\n",
        "condensingTheQuestionModel = AzureChatOpenAI(\n",
        "        openai_api_base=os.environ[\"OPENAI_API_HOST\"],\n",
        "        openai_api_version=os.environ[\"OPENAI_API_VERSION\"],\n",
        "        deployment_name=base_model_name,\n",
        "        openai_api_key=os.environ[\"OPENAI_API_KEY\"],\n",
        "        openai_api_type=\"azure\",\n",
        "        temperature=1,\n",
        "        verbose = True\n",
        "    )\n",
        "memory = ConversationBufferMemory(\n",
        "    output_key='answer',\n",
        "    memory_key='chat_history',\n",
        "    return_messages=True\n",
        "    )\n"
      ],
      "id": "d35ecada-3ca2-4a68-9b74-e72cbad23437"
    },
    {
      "cell_type": "markdown",
      "source": [
        "#**Core Logic**"
      ],
      "metadata": {
        "id": "Q5M2Zkg3DDSW"
      },
      "id": "Q5M2Zkg3DDSW"
    },
    {
      "cell_type": "markdown",
      "source": [
        "Wrapping the output to display results in a suitable fashion."
      ],
      "metadata": {
        "id": "OJh658keDOFP"
      },
      "id": "OJh658keDOFP"
    },
    {
      "cell_type": "code",
      "execution_count": null,
      "metadata": {
        "id": "6I6COFgovYow"
      },
      "outputs": [],
      "source": [
        "from IPython.display import HTML, display\n",
        "\n",
        "def set_css():\n",
        "  display(HTML('''\n",
        "  <style>\n",
        "    pre {\n",
        "        white-space: pre-wrap;\n",
        "    }\n",
        "  </style>\n",
        "  '''))\n",
        "get_ipython().events.register('pre_run_cell', set_css)"
      ],
      "id": "6I6COFgovYow"
    },
    {
      "cell_type": "markdown",
      "source": [
        "The user is asked questions based on financial planning and retirement goals to get an understanding of their current standing as well as their future aspirations.\n",
        "\n",
        "This provides us and the GenAI model an understanding of the person and what kind of financial planning would suit him/her."
      ],
      "metadata": {
        "id": "AThIl4kJDjC7"
      },
      "id": "AThIl4kJDjC7"
    },
    {
      "cell_type": "code",
      "execution_count": 14,
      "metadata": {
        "id": "urk_8p9a5jcI",
        "colab": {
          "base_uri": "https://localhost:8080/",
          "height": 670
        },
        "outputId": "e564c4eb-8976-45a7-d034-ee8c157fa0ed"
      },
      "outputs": [
        {
          "output_type": "display_data",
          "data": {
            "text/plain": [
              "<IPython.core.display.HTML object>"
            ],
            "text/html": [
              "\n",
              "  <style>\n",
              "    pre {\n",
              "        white-space: pre-wrap;\n",
              "    }\n",
              "  </style>\n",
              "  "
            ]
          },
          "metadata": {}
        },
        {
          "name": "stdout",
          "output_type": "stream",
          "text": [
            "q1) Which of the following categories do you fall under?\n",
            "1) I'm a Student\n",
            "2) I'm an Employee early into my career\n",
            "3) I'm a researcher\n",
            "4) I'm currently not employed. I may/may not be seeking a job at the moment.\n",
            "Choose between the options - 1, 2, 3 or 4 4\n",
            "q2) Which of the following best describes you?\n",
            "1) I'm a meticulous planner, and I like to have a detailed financial roadmap for retirement.\n",
            "2) I'm a free spirit, and I prefer a flexible approach to retirement planning.\n",
            "3) I'm risk-averse and prioritize the safety of my retirement investments.\n",
            "4) I'm uncertain\n",
            "Choose between the options - 1, 2, 3 or 4 2\n",
            "q3) What age do you envision retiring at?\n",
            "1) 55 or earlier\n",
            "2) 60-65\n",
            "3) 66-70\n",
            "4) After 70\n",
            "Choose between the options - 1, 2, 3 or 4 2\n",
            "q4) What is your primary retirement savings goal?\n",
            "1) Financial independence\n",
            "2) Travel and leisure\n",
            "3) Supporting family\n",
            "4) Leaving a legacy\n",
            "Choose between the options - 1, 2, 3 or 4 1\n",
            "q5) How diligently do you contribute to your retirement savings currently?\n",
            "1) I consistently contribute the maximum allowed amount\n",
            "2) I regularly contribute, but not the maximum\n",
            "3) I contribute sporadically\n",
            "4) I haven't started saving for retirement yet\n",
            "Choose between the options - 1, 2, 3 or 4 4\n",
            "q6) In your 20s, you suddenly receive a substantial amount of money. What's your immediate plan for this unexpected financial gain?\n",
            "1) Invest a substantial portion in a retirement account.\n",
            "2) Use it for a dream vacation or a significant purchase.\n",
            "3) Pay off existing debts, including student loans.\n",
            "4) I haven't considered it yet.\n",
            "Choose between the options - 1, 2, 3 or 4 3\n"
          ]
        }
      ],
      "source": [
        "questions = []\n",
        "\n",
        "questions.append(\"Which of the following best describes you? a) I'm a meticulous planner, and I like to have a detailed financial roadmap for retirement.  b) I'm a free spirit, and I prefer a flexible approach to retirement planning. c) I'm risk-averse and prioritize the safety of my retirement investments. d) I'm uncertain\")\n",
        "\n",
        "questions = [\n",
        "    [\"q1) Which of the following categories do you fall under?\",\n",
        "    \"1) I'm a Student\",\n",
        "    \"2) I'm an Employee early into my career\",\n",
        "    \"3) I'm a researcher\",\n",
        "    \"4) I'm currently not employed. I may/may not be seeking a job at the moment.\"],\n",
        "    [\"q2) Which of the following best describes you?\",\n",
        "    \"1) I'm a meticulous planner, and I like to have a detailed financial roadmap for retirement.\",\n",
        "    \"2) I'm a free spirit, and I prefer a flexible approach to retirement planning.\",\n",
        "    \"3) I'm risk-averse and prioritize the safety of my retirement investments.\",\n",
        "    \"4) I'm uncertain\"],\n",
        "    [\"q3) What age do you envision retiring at?\",\n",
        "     \"1) 55 or earlier\",\n",
        "     \"2) 60-65\",\n",
        "     \"3) 66-70\",\n",
        "     \"4) After 70\"],\n",
        "    [\"q4) What is your primary retirement savings goal?\",\n",
        "     \"1) Financial independence\",\n",
        "     \"2) Travel and leisure\",\n",
        "     \"3) Supporting family\",\n",
        "     \"4) Leaving a legacy\"],\n",
        "    [\"q5) How diligently do you contribute to your retirement savings currently?\",\n",
        "     \"1) I consistently contribute the maximum allowed amount\",\n",
        "     \"2) I regularly contribute, but not the maximum\",\n",
        "     \"3) I contribute sporadically\",\n",
        "     \"4) I haven't started saving for retirement yet\"],\n",
        "    [\"q6) In your 20s, you suddenly receive a substantial amount of money. What's your immediate plan for this unexpected financial gain?\",\n",
        "     \"1) Invest a substantial portion in a retirement account.\",\n",
        "     \"2) Use it for a dream vacation or a significant purchase.\",\n",
        "     \"3) Pay off existing debts, including student loans.\",\n",
        "     \"4) I haven't considered it yet.\"]\n",
        "]\n",
        "\n",
        "res = []\n",
        "ans = int()\n",
        "for i in questions:\n",
        "  print(i[0])\n",
        "  print(i[1])\n",
        "  print(i[2])\n",
        "  print(i[3])\n",
        "  print(i[4])\n",
        "  ans = input(\"Choose between the options - 1, 2, 3 or 4 \")\n",
        "  res.append((i[0]+\" Ans: \"+i[int(ans)]))\n",
        "\n",
        "prompt =\"Generate a financial plan using the given questionnaire and the answers\"\n",
        "msg = HumanMessage(content=prompt + \"\".join(res))\n",
        "output=chosen_llm(messages=[msg])\n",
        "# print(output.content)\n"
      ],
      "id": "urk_8p9a5jcI"
    },
    {
      "cell_type": "markdown",
      "source": [
        "Based on the inferences made about the person's financial standing and future retirement aspirations, the LLM is used to determine what TIAA based retirement plan is to be suggested to the user.\n",
        "\n",
        "\n",
        "The LLM has been instructed to pick from the following plans and provide reasoning for making it's choice.\n",
        "The LLM was also fed TIAA's retirement plans and was made to provide key-words relating to each. This was used to infer similarities between the user's financial persona and the key-words.\n",
        "\n",
        "\n",
        "```\n",
        "1. Annuities and Investment Options\n",
        "  - Financially Savvy\n",
        "  - Risk-Tolerant\n",
        "  - Strategic Planner\n",
        "  - Long-Term Oriented\n",
        "  - Goal-Driven\n",
        "  - Investment-Minded\n",
        "  - Open to Diversification\n",
        "  - Patient Investor\n",
        "  - Prudent Decision-Maker\n",
        "  - Future-Focused\n",
        "  \n",
        "2. Employer-Sponsored Retirement Plans:\n",
        "  - Employee Benefits-Conscious\n",
        "  - Company-Loyal\n",
        "  - Retirement-Ready\n",
        "  - Team Player\n",
        "  - Goal-Oriented\n",
        "  - Responsible Saver\n",
        "  - Cooperative\n",
        "  - Long-Term Planner\n",
        "  - Company Culture-Engaged\n",
        "  - Tax-Efficient Investor\n",
        "\n",
        "3. Individual Retirement Accounts (IRAs):\n",
        "  - Independent Planner\n",
        "  - Self-Directed Investor\n",
        "  - Tax-Conscious\n",
        "  - Financially Independent\n",
        "  - Goal-Driven Saver\n",
        "  - Future-Forward\n",
        "  - Personal Responsibility\n",
        "  - Long-Term Planner\n",
        "  - Tax-Efficient Saver\n",
        "  - Future-Focused\n",
        "\n",
        "4. TIAA Advisory Services:\n",
        "  - Seeker of Expertise\n",
        "  - Informed Decision-Maker\n",
        "  - Financially Literate\n",
        "  - Seeking Guidance\n",
        "  - Trusting\n",
        "  - Willing to Learn\n",
        "  - Goal-Oriented\n",
        "  - Long-Term Planner\n",
        "  - Open to Advice\n",
        "  - Collaborative\n",
        "\n",
        "5. Lifetime Income Options:\n",
        "  - Risk-Averse\n",
        "  - Stability-Seeking\n",
        "  - Future-Focused\n",
        "  - Long-Term Planner\n",
        "  - Security-Conscious\n",
        "  - Patient Investor\n",
        "  - Annuity-Minded\n",
        "  - Financially Cautious\n",
        "  - Retirement-Ready\n",
        "  - Steady Income-Seeking\n",
        "\n",
        "6. Long-Term Care Insurance:\n",
        "  - Prudent Planner\n",
        "  - Health-Conscious\n",
        "  - Future-Prepared\n",
        "  - Risk-Aware\n",
        "  - Safety-Minded\n",
        "  - Responsible\n",
        "  - Health-Considerate\n",
        "  - Focused on Well-Being\n",
        "  - Caring for the Future\n",
        "  - Prepared for Contingencies\n",
        "\n",
        "7. Education and Workshops:\n",
        "  - Eager to Learn\n",
        "  - Inquisitive\n",
        "  - Proactive Learner\n",
        "  - Financially Literate\n",
        "  - Open to Education\n",
        "  - Seeking Knowledge\n",
        "  - Goal-Oriented Learner\n",
        "  - Empowered\n",
        "  - Committed to Learning\n",
        "  - Future-Forward\n",
        "\n",
        "8. Socially Responsible Investing:\n",
        "  - Ethically Conscious\n",
        "  - Environmentally Aware\n",
        "  - Socially Committed\n",
        "  - Values-Driven\n",
        "  - Sustainable-Minded\n",
        "  - Responsible Investor\n",
        "  - Impact-Driven\n",
        "  - Aligned with Values\n",
        "  - Future-Forward\n",
        "  - Socially Engaged\n",
        "\n",
        "9. Customer Support and Service:\n",
        "  - Customer-Centric\n",
        "  - Relationship-Focused\n",
        "  - Service-Oriented\n",
        "  - Patient\n",
        "  - Communicative\n",
        "  - Support-Seeking\n",
        "  - Trusting\n",
        "  - Open to Guidance\n",
        "  - Seeking Assistance\n",
        "  - Empathetic\n",
        "\n",
        "10. Legacy Planning and Estate Services:\n",
        "  - Forward-Thinking\n",
        "  - Family-Oriented\n",
        "  - Responsible Steward\n",
        "  - Goal-Oriented Planner\n",
        "  - Values Family and Legacy\n",
        "  - Estate-Conscious\n",
        "  - Willing to Plan Ahead\n",
        "  - Legacy-Driven\n",
        "  - Future-Focused\n",
        "  - Responsible for Generations\n",
        "```\n"
      ],
      "metadata": {
        "id": "3vYT71rDEHcI"
      },
      "id": "3vYT71rDEHcI"
    },
    {
      "cell_type": "code",
      "source": [
        "suggestion_prompt = \"Suggest strictly two best suited TIAA plans with explanation from the following - Annuities and Investment Options,Employer-Sponsored Retirement Plans, Individual Retirement Accounts (IRAs),TIAA Advisory Services,Lifetime Income Options,Long-Term Care Insurance,Education and Workshops,Socially Responsible Investing,Customer Support and Service,Legacy Planning and Estate Services from the given result: \"+str(output.content)\n",
        "msg = HumanMessage(content=suggestion_prompt)\n",
        "output=chosen_llm(messages=[msg])\n",
        "print(output.content)"
      ],
      "metadata": {
        "colab": {
          "base_uri": "https://localhost:8080/",
          "height": 180
        },
        "id": "lR5SnRaOQHbm",
        "outputId": "58a10c2e-3304-4d1e-ca1f-e58969e5f60b"
      },
      "id": "lR5SnRaOQHbm",
      "execution_count": 15,
      "outputs": [
        {
          "output_type": "display_data",
          "data": {
            "text/plain": [
              "<IPython.core.display.HTML object>"
            ],
            "text/html": [
              "\n",
              "  <style>\n",
              "    pre {\n",
              "        white-space: pre-wrap;\n",
              "    }\n",
              "  </style>\n",
              "  "
            ]
          },
          "metadata": {}
        },
        {
          "output_type": "stream",
          "name": "stdout",
          "text": [
            "1) Individual Retirement Accounts (IRAs): Given your current status of unemployment and preference for a flexible approach to retirement planning, setting up either a Traditional or Roth IRA with TIAA would be beneficial. These plans would allow you to make contributions to your retirement account on your own schedule and would also provide tax advantages. The money in your IRA can be invested in a number of different ways, including in stocks and bonds, which would help your savings grow over time. Moreover, IRAs are ideal for people who don't have access to an employer-sponsored retirement plan.\n",
            "\n",
            "2) TIAA Advisory Services: As a person just starting out with planning retirement savings, the TIAA Advisory Services will be very helpful. They offer personalized investment advice and can help you to develop a financial strategy that suits your long-term goals and risk tolerance. With your preference for flexibility, you would likely benefit from working with an advisor to explore a range of potential investment options and strategies. Additionally, the advisors can guide you through the nuances of managing your IRA effectively. Starting with little to no retirement savings, this advice could go a long way in ensuring that you set and stay on track towards meeting your retirement financial goals.\n"
          ]
        }
      ]
    },
    {
      "cell_type": "code",
      "source": [],
      "metadata": {
        "id": "D_Fj1OmsWdMr"
      },
      "id": "D_Fj1OmsWdMr",
      "execution_count": null,
      "outputs": []
    }
  ],
  "metadata": {
    "availableInstances": [
      {
        "_defaultOrder": 0,
        "_isFastLaunch": true,
        "category": "General purpose",
        "gpuNum": 0,
        "hideHardwareSpecs": false,
        "memoryGiB": 4,
        "name": "ml.t3.medium",
        "vcpuNum": 2
      },
      {
        "_defaultOrder": 1,
        "_isFastLaunch": false,
        "category": "General purpose",
        "gpuNum": 0,
        "hideHardwareSpecs": false,
        "memoryGiB": 8,
        "name": "ml.t3.large",
        "vcpuNum": 2
      },
      {
        "_defaultOrder": 2,
        "_isFastLaunch": false,
        "category": "General purpose",
        "gpuNum": 0,
        "hideHardwareSpecs": false,
        "memoryGiB": 16,
        "name": "ml.t3.xlarge",
        "vcpuNum": 4
      },
      {
        "_defaultOrder": 3,
        "_isFastLaunch": false,
        "category": "General purpose",
        "gpuNum": 0,
        "hideHardwareSpecs": false,
        "memoryGiB": 32,
        "name": "ml.t3.2xlarge",
        "vcpuNum": 8
      },
      {
        "_defaultOrder": 4,
        "_isFastLaunch": true,
        "category": "General purpose",
        "gpuNum": 0,
        "hideHardwareSpecs": false,
        "memoryGiB": 8,
        "name": "ml.m5.large",
        "vcpuNum": 2
      },
      {
        "_defaultOrder": 5,
        "_isFastLaunch": false,
        "category": "General purpose",
        "gpuNum": 0,
        "hideHardwareSpecs": false,
        "memoryGiB": 16,
        "name": "ml.m5.xlarge",
        "vcpuNum": 4
      },
      {
        "_defaultOrder": 6,
        "_isFastLaunch": false,
        "category": "General purpose",
        "gpuNum": 0,
        "hideHardwareSpecs": false,
        "memoryGiB": 32,
        "name": "ml.m5.2xlarge",
        "vcpuNum": 8
      },
      {
        "_defaultOrder": 7,
        "_isFastLaunch": false,
        "category": "General purpose",
        "gpuNum": 0,
        "hideHardwareSpecs": false,
        "memoryGiB": 64,
        "name": "ml.m5.4xlarge",
        "vcpuNum": 16
      },
      {
        "_defaultOrder": 8,
        "_isFastLaunch": false,
        "category": "General purpose",
        "gpuNum": 0,
        "hideHardwareSpecs": false,
        "memoryGiB": 128,
        "name": "ml.m5.8xlarge",
        "vcpuNum": 32
      },
      {
        "_defaultOrder": 9,
        "_isFastLaunch": false,
        "category": "General purpose",
        "gpuNum": 0,
        "hideHardwareSpecs": false,
        "memoryGiB": 192,
        "name": "ml.m5.12xlarge",
        "vcpuNum": 48
      },
      {
        "_defaultOrder": 10,
        "_isFastLaunch": false,
        "category": "General purpose",
        "gpuNum": 0,
        "hideHardwareSpecs": false,
        "memoryGiB": 256,
        "name": "ml.m5.16xlarge",
        "vcpuNum": 64
      },
      {
        "_defaultOrder": 11,
        "_isFastLaunch": false,
        "category": "General purpose",
        "gpuNum": 0,
        "hideHardwareSpecs": false,
        "memoryGiB": 384,
        "name": "ml.m5.24xlarge",
        "vcpuNum": 96
      },
      {
        "_defaultOrder": 12,
        "_isFastLaunch": false,
        "category": "General purpose",
        "gpuNum": 0,
        "hideHardwareSpecs": false,
        "memoryGiB": 8,
        "name": "ml.m5d.large",
        "vcpuNum": 2
      },
      {
        "_defaultOrder": 13,
        "_isFastLaunch": false,
        "category": "General purpose",
        "gpuNum": 0,
        "hideHardwareSpecs": false,
        "memoryGiB": 16,
        "name": "ml.m5d.xlarge",
        "vcpuNum": 4
      },
      {
        "_defaultOrder": 14,
        "_isFastLaunch": false,
        "category": "General purpose",
        "gpuNum": 0,
        "hideHardwareSpecs": false,
        "memoryGiB": 32,
        "name": "ml.m5d.2xlarge",
        "vcpuNum": 8
      },
      {
        "_defaultOrder": 15,
        "_isFastLaunch": false,
        "category": "General purpose",
        "gpuNum": 0,
        "hideHardwareSpecs": false,
        "memoryGiB": 64,
        "name": "ml.m5d.4xlarge",
        "vcpuNum": 16
      },
      {
        "_defaultOrder": 16,
        "_isFastLaunch": false,
        "category": "General purpose",
        "gpuNum": 0,
        "hideHardwareSpecs": false,
        "memoryGiB": 128,
        "name": "ml.m5d.8xlarge",
        "vcpuNum": 32
      },
      {
        "_defaultOrder": 17,
        "_isFastLaunch": false,
        "category": "General purpose",
        "gpuNum": 0,
        "hideHardwareSpecs": false,
        "memoryGiB": 192,
        "name": "ml.m5d.12xlarge",
        "vcpuNum": 48
      },
      {
        "_defaultOrder": 18,
        "_isFastLaunch": false,
        "category": "General purpose",
        "gpuNum": 0,
        "hideHardwareSpecs": false,
        "memoryGiB": 256,
        "name": "ml.m5d.16xlarge",
        "vcpuNum": 64
      },
      {
        "_defaultOrder": 19,
        "_isFastLaunch": false,
        "category": "General purpose",
        "gpuNum": 0,
        "hideHardwareSpecs": false,
        "memoryGiB": 384,
        "name": "ml.m5d.24xlarge",
        "vcpuNum": 96
      },
      {
        "_defaultOrder": 20,
        "_isFastLaunch": false,
        "category": "General purpose",
        "gpuNum": 0,
        "hideHardwareSpecs": true,
        "memoryGiB": 0,
        "name": "ml.geospatial.interactive",
        "supportedImageNames": [
          "sagemaker-geospatial-v1-0"
        ],
        "vcpuNum": 0
      },
      {
        "_defaultOrder": 21,
        "_isFastLaunch": true,
        "category": "Compute optimized",
        "gpuNum": 0,
        "hideHardwareSpecs": false,
        "memoryGiB": 4,
        "name": "ml.c5.large",
        "vcpuNum": 2
      },
      {
        "_defaultOrder": 22,
        "_isFastLaunch": false,
        "category": "Compute optimized",
        "gpuNum": 0,
        "hideHardwareSpecs": false,
        "memoryGiB": 8,
        "name": "ml.c5.xlarge",
        "vcpuNum": 4
      },
      {
        "_defaultOrder": 23,
        "_isFastLaunch": false,
        "category": "Compute optimized",
        "gpuNum": 0,
        "hideHardwareSpecs": false,
        "memoryGiB": 16,
        "name": "ml.c5.2xlarge",
        "vcpuNum": 8
      },
      {
        "_defaultOrder": 24,
        "_isFastLaunch": false,
        "category": "Compute optimized",
        "gpuNum": 0,
        "hideHardwareSpecs": false,
        "memoryGiB": 32,
        "name": "ml.c5.4xlarge",
        "vcpuNum": 16
      },
      {
        "_defaultOrder": 25,
        "_isFastLaunch": false,
        "category": "Compute optimized",
        "gpuNum": 0,
        "hideHardwareSpecs": false,
        "memoryGiB": 72,
        "name": "ml.c5.9xlarge",
        "vcpuNum": 36
      },
      {
        "_defaultOrder": 26,
        "_isFastLaunch": false,
        "category": "Compute optimized",
        "gpuNum": 0,
        "hideHardwareSpecs": false,
        "memoryGiB": 96,
        "name": "ml.c5.12xlarge",
        "vcpuNum": 48
      },
      {
        "_defaultOrder": 27,
        "_isFastLaunch": false,
        "category": "Compute optimized",
        "gpuNum": 0,
        "hideHardwareSpecs": false,
        "memoryGiB": 144,
        "name": "ml.c5.18xlarge",
        "vcpuNum": 72
      },
      {
        "_defaultOrder": 28,
        "_isFastLaunch": false,
        "category": "Compute optimized",
        "gpuNum": 0,
        "hideHardwareSpecs": false,
        "memoryGiB": 192,
        "name": "ml.c5.24xlarge",
        "vcpuNum": 96
      },
      {
        "_defaultOrder": 29,
        "_isFastLaunch": true,
        "category": "Accelerated computing",
        "gpuNum": 1,
        "hideHardwareSpecs": false,
        "memoryGiB": 16,
        "name": "ml.g4dn.xlarge",
        "vcpuNum": 4
      },
      {
        "_defaultOrder": 30,
        "_isFastLaunch": false,
        "category": "Accelerated computing",
        "gpuNum": 1,
        "hideHardwareSpecs": false,
        "memoryGiB": 32,
        "name": "ml.g4dn.2xlarge",
        "vcpuNum": 8
      },
      {
        "_defaultOrder": 31,
        "_isFastLaunch": false,
        "category": "Accelerated computing",
        "gpuNum": 1,
        "hideHardwareSpecs": false,
        "memoryGiB": 64,
        "name": "ml.g4dn.4xlarge",
        "vcpuNum": 16
      },
      {
        "_defaultOrder": 32,
        "_isFastLaunch": false,
        "category": "Accelerated computing",
        "gpuNum": 1,
        "hideHardwareSpecs": false,
        "memoryGiB": 128,
        "name": "ml.g4dn.8xlarge",
        "vcpuNum": 32
      },
      {
        "_defaultOrder": 33,
        "_isFastLaunch": false,
        "category": "Accelerated computing",
        "gpuNum": 4,
        "hideHardwareSpecs": false,
        "memoryGiB": 192,
        "name": "ml.g4dn.12xlarge",
        "vcpuNum": 48
      },
      {
        "_defaultOrder": 34,
        "_isFastLaunch": false,
        "category": "Accelerated computing",
        "gpuNum": 1,
        "hideHardwareSpecs": false,
        "memoryGiB": 256,
        "name": "ml.g4dn.16xlarge",
        "vcpuNum": 64
      },
      {
        "_defaultOrder": 35,
        "_isFastLaunch": false,
        "category": "Accelerated computing",
        "gpuNum": 1,
        "hideHardwareSpecs": false,
        "memoryGiB": 61,
        "name": "ml.p3.2xlarge",
        "vcpuNum": 8
      },
      {
        "_defaultOrder": 36,
        "_isFastLaunch": false,
        "category": "Accelerated computing",
        "gpuNum": 4,
        "hideHardwareSpecs": false,
        "memoryGiB": 244,
        "name": "ml.p3.8xlarge",
        "vcpuNum": 32
      },
      {
        "_defaultOrder": 37,
        "_isFastLaunch": false,
        "category": "Accelerated computing",
        "gpuNum": 8,
        "hideHardwareSpecs": false,
        "memoryGiB": 488,
        "name": "ml.p3.16xlarge",
        "vcpuNum": 64
      },
      {
        "_defaultOrder": 38,
        "_isFastLaunch": false,
        "category": "Accelerated computing",
        "gpuNum": 8,
        "hideHardwareSpecs": false,
        "memoryGiB": 768,
        "name": "ml.p3dn.24xlarge",
        "vcpuNum": 96
      },
      {
        "_defaultOrder": 39,
        "_isFastLaunch": false,
        "category": "Memory Optimized",
        "gpuNum": 0,
        "hideHardwareSpecs": false,
        "memoryGiB": 16,
        "name": "ml.r5.large",
        "vcpuNum": 2
      },
      {
        "_defaultOrder": 40,
        "_isFastLaunch": false,
        "category": "Memory Optimized",
        "gpuNum": 0,
        "hideHardwareSpecs": false,
        "memoryGiB": 32,
        "name": "ml.r5.xlarge",
        "vcpuNum": 4
      },
      {
        "_defaultOrder": 41,
        "_isFastLaunch": false,
        "category": "Memory Optimized",
        "gpuNum": 0,
        "hideHardwareSpecs": false,
        "memoryGiB": 64,
        "name": "ml.r5.2xlarge",
        "vcpuNum": 8
      },
      {
        "_defaultOrder": 42,
        "_isFastLaunch": false,
        "category": "Memory Optimized",
        "gpuNum": 0,
        "hideHardwareSpecs": false,
        "memoryGiB": 128,
        "name": "ml.r5.4xlarge",
        "vcpuNum": 16
      },
      {
        "_defaultOrder": 43,
        "_isFastLaunch": false,
        "category": "Memory Optimized",
        "gpuNum": 0,
        "hideHardwareSpecs": false,
        "memoryGiB": 256,
        "name": "ml.r5.8xlarge",
        "vcpuNum": 32
      },
      {
        "_defaultOrder": 44,
        "_isFastLaunch": false,
        "category": "Memory Optimized",
        "gpuNum": 0,
        "hideHardwareSpecs": false,
        "memoryGiB": 384,
        "name": "ml.r5.12xlarge",
        "vcpuNum": 48
      },
      {
        "_defaultOrder": 45,
        "_isFastLaunch": false,
        "category": "Memory Optimized",
        "gpuNum": 0,
        "hideHardwareSpecs": false,
        "memoryGiB": 512,
        "name": "ml.r5.16xlarge",
        "vcpuNum": 64
      },
      {
        "_defaultOrder": 46,
        "_isFastLaunch": false,
        "category": "Memory Optimized",
        "gpuNum": 0,
        "hideHardwareSpecs": false,
        "memoryGiB": 768,
        "name": "ml.r5.24xlarge",
        "vcpuNum": 96
      },
      {
        "_defaultOrder": 47,
        "_isFastLaunch": false,
        "category": "Accelerated computing",
        "gpuNum": 1,
        "hideHardwareSpecs": false,
        "memoryGiB": 16,
        "name": "ml.g5.xlarge",
        "vcpuNum": 4
      },
      {
        "_defaultOrder": 48,
        "_isFastLaunch": false,
        "category": "Accelerated computing",
        "gpuNum": 1,
        "hideHardwareSpecs": false,
        "memoryGiB": 32,
        "name": "ml.g5.2xlarge",
        "vcpuNum": 8
      },
      {
        "_defaultOrder": 49,
        "_isFastLaunch": false,
        "category": "Accelerated computing",
        "gpuNum": 1,
        "hideHardwareSpecs": false,
        "memoryGiB": 64,
        "name": "ml.g5.4xlarge",
        "vcpuNum": 16
      },
      {
        "_defaultOrder": 50,
        "_isFastLaunch": false,
        "category": "Accelerated computing",
        "gpuNum": 1,
        "hideHardwareSpecs": false,
        "memoryGiB": 128,
        "name": "ml.g5.8xlarge",
        "vcpuNum": 32
      },
      {
        "_defaultOrder": 51,
        "_isFastLaunch": false,
        "category": "Accelerated computing",
        "gpuNum": 1,
        "hideHardwareSpecs": false,
        "memoryGiB": 256,
        "name": "ml.g5.16xlarge",
        "vcpuNum": 64
      },
      {
        "_defaultOrder": 52,
        "_isFastLaunch": false,
        "category": "Accelerated computing",
        "gpuNum": 4,
        "hideHardwareSpecs": false,
        "memoryGiB": 192,
        "name": "ml.g5.12xlarge",
        "vcpuNum": 48
      },
      {
        "_defaultOrder": 53,
        "_isFastLaunch": false,
        "category": "Accelerated computing",
        "gpuNum": 4,
        "hideHardwareSpecs": false,
        "memoryGiB": 384,
        "name": "ml.g5.24xlarge",
        "vcpuNum": 96
      },
      {
        "_defaultOrder": 54,
        "_isFastLaunch": false,
        "category": "Accelerated computing",
        "gpuNum": 8,
        "hideHardwareSpecs": false,
        "memoryGiB": 768,
        "name": "ml.g5.48xlarge",
        "vcpuNum": 192
      },
      {
        "_defaultOrder": 55,
        "_isFastLaunch": false,
        "category": "Accelerated computing",
        "gpuNum": 8,
        "hideHardwareSpecs": false,
        "memoryGiB": 1152,
        "name": "ml.p4d.24xlarge",
        "vcpuNum": 96
      },
      {
        "_defaultOrder": 56,
        "_isFastLaunch": false,
        "category": "Accelerated computing",
        "gpuNum": 8,
        "hideHardwareSpecs": false,
        "memoryGiB": 1152,
        "name": "ml.p4de.24xlarge",
        "vcpuNum": 96
      }
    ],
    "colab": {
      "provenance": []
    },
    "instance_type": "ml.t3.medium",
    "kernelspec": {
      "display_name": "Python 3 (Data Science 3.0)",
      "language": "python",
      "name": "python3__SAGEMAKER_INTERNAL__arn:aws:sagemaker:us-east-1:081325390199:image/sagemaker-data-science-310-v1"
    },
    "language_info": {
      "codemirror_mode": {
        "name": "ipython",
        "version": 3
      },
      "file_extension": ".py",
      "mimetype": "text/x-python",
      "name": "python",
      "nbconvert_exporter": "python",
      "pygments_lexer": "ipython3",
      "version": "3.10.6"
    }
  },
  "nbformat": 4,
  "nbformat_minor": 5
}